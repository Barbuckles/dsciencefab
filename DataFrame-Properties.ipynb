{
 "cells": [
  {
   "cell_type": "markdown",
   "id": "10937e82",
   "metadata": {},
   "source": [
    "# Data Science for Absolute Beginners\n",
    "## DataFrame Properties"
   ]
  },
  {
   "cell_type": "code",
   "execution_count": 14,
   "id": "c40e7877",
   "metadata": {},
   "outputs": [],
   "source": [
    "# load pandas\n",
    "import pandas as pd"
   ]
  },
  {
   "cell_type": "code",
   "execution_count": 16,
   "id": "99013f63",
   "metadata": {},
   "outputs": [],
   "source": [
    "# load four different dataframes\n",
    "t0 = pd.read_csv(\"data/t0.csv\")\n",
    "t1 = pd.read_csv(\"data/t1.csv\")\n",
    "t2 = pd.read_csv(\"data/t2.csv\", index_col=0)\n",
    "t = pd.read_csv(\"data/t.csv\", index_col=0)"
   ]
  }
 ],
 "metadata": {
  "kernelspec": {
   "display_name": "Python 3 (ipykernel)",
   "language": "python",
   "name": "python3"
  },
  "language_info": {
   "codemirror_mode": {
    "name": "ipython",
    "version": 3
   },
   "file_extension": ".py",
   "mimetype": "text/x-python",
   "name": "python",
   "nbconvert_exporter": "python",
   "pygments_lexer": "ipython3",
   "version": "3.9.7"
  }
 },
 "nbformat": 4,
 "nbformat_minor": 5
}
